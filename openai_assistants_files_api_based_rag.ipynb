{
  "nbformat": 4,
  "nbformat_minor": 0,
  "metadata": {
    "colab": {
      "provenance": [],
      "authorship_tag": "ABX9TyOIPQEL2S9kHJnxGIyvyMmC",
      "include_colab_link": true
    },
    "kernelspec": {
      "name": "python3",
      "display_name": "Python 3"
    },
    "language_info": {
      "name": "python"
    }
  },
  "cells": [
    {
      "cell_type": "markdown",
      "metadata": {
        "id": "view-in-github",
        "colab_type": "text"
      },
      "source": [
        "<a href=\"https://colab.research.google.com/github/sugarforever/OpenAI-Tutorials/blob/main/openai_assistants_files_api_based_rag.ipynb\" target=\"_parent\"><img src=\"https://colab.research.google.com/assets/colab-badge.svg\" alt=\"Open In Colab\"/></a>"
      ]
    },
    {
      "cell_type": "markdown",
      "source": [
        "# OpenAI Assistants and Files API based RAG Application\n",
        "\n",
        "**Assistants API** allows developers to build AI assistants that can handle the stateful operations required for LLM based applications, including persistent threads and messages, files, and automatic RAG.\n",
        "\n",
        "An Assistant has instructions and can leverage models, tools, and knowledge to respond to user queries. The Assistants API currently supports three types of tools:\n",
        "\n",
        "- Code Interpreter\n",
        "- Retrieval\n",
        "- Function calling\n",
        "\n",
        "Notice that, when we give `Assistants` access to OpenAI-hosted tools listed above, the usage of the tools comes at an additional fee.\n",
        "\n",
        "**RAG** (Retrieval Augmented Generation) is a technique used in natural language processing that employes the capabilities of retrieval-based models and generative models to improve the quality and relevance of generated text.\n",
        "\n",
        "Document based QA bot is a classic use case of RAG. The mainstream LLM frameworks for example `LangChain` and `LlamaIndex` support building such RAG application.\n",
        "\n",
        "In this tutorial, I will show you how to develop a RAG application with OpenAI `Assistants` and `Files` API. The code may be cleaner, the solution may be more elegant, and it may cost a bit more, considering the extra charge for using OpenAI hosted tool - **`Retrieval`**.\n",
        "\n",
        "With this solution, you don't have to deal with the following tedious operations:\n",
        "\n",
        "- Split text with proper strategy\n",
        "- Vectorize text chunks\n",
        "- Persist vector data set\n",
        "- Similarity search\n"
      ],
      "metadata": {
        "id": "Dej4rmcv1qCm"
      }
    },
    {
      "cell_type": "markdown",
      "source": [
        "## Prepare the environment\n",
        "\n",
        "In order to run the example code below, make sure you have a valid OpenAI API key with access to the model `gpt-4-1106-preview`.\n",
        "\n",
        "You also should have the `.env` file ready in current directory with the content in the pattern below:\n",
        "\n",
        "```shell\n",
        "OPENAI_API_KEY=sk-xxxxxx\n",
        "```\n",
        "\n",
        "Now let's install the necessary Python packages."
      ],
      "metadata": {
        "id": "ipQHI0Fe7OP7"
      }
    },
    {
      "cell_type": "code",
      "execution_count": 105,
      "metadata": {
        "id": "GkF_TXMN2AML"
      },
      "outputs": [],
      "source": [
        "!pip install openai python-dotenv -U -q"
      ]
    },
    {
      "cell_type": "markdown",
      "source": [
        "## Coding Time\n",
        "\n",
        "We can start coding. In this example, we will use the following PDF file as the knowledge base:\n",
        "\n",
        "[2023 Venture Capital Report](https://www.wilmerhale.com/-/media/files/shared_content/editorial/publications/documents/2023-wilmerhale-vc-report.pdf)\n",
        "\n",
        "This is a Venture Capital report of 2023 issued by WilmerHale."
      ],
      "metadata": {
        "id": "O2f7XFsu8BIK"
      }
    },
    {
      "cell_type": "markdown",
      "source": [
        "### 1. Load"
      ],
      "metadata": {
        "id": "qUpdc89s8lmd"
      }
    },
    {
      "cell_type": "code",
      "source": [
        "from dotenv import load_dotenv\n",
        "load_dotenv()\n",
        "\n",
        "import os"
      ],
      "metadata": {
        "id": "ywRTtMmR2UKV"
      },
      "execution_count": 107,
      "outputs": []
    },
    {
      "cell_type": "code",
      "source": [
        "openai_api_key = os.environ[\"OPENAI_API_KEY\"]"
      ],
      "metadata": {
        "id": "GeW4OJ6Y2rR7"
      },
      "execution_count": 108,
      "outputs": []
    },
    {
      "cell_type": "code",
      "source": [
        "import openai\n",
        "\n",
        "# You don't have to explicitly fetch the API key from environmental variables and assign it.\n",
        "# OpenAI class will load it from env var OPENAI_API_KEY automatically.\n",
        "\n",
        "openai_client = openai.OpenAI(api_key=openai_api_key)"
      ],
      "metadata": {
        "id": "LPz0oCZkEcwb"
      },
      "execution_count": 65,
      "outputs": []
    },
    {
      "cell_type": "markdown",
      "source": [
        "### 2. Retrieve existing files\n",
        "\n",
        "The files uploaded via `OpenAI Files API` are persisted. They can be surely reused by referring to their ids.\n",
        "\n",
        "In this step, we will retrieve the files already uploaded and see if the PDF file `2023-WilmerHale-VC-Report.pdf` exists.\n",
        "\n",
        "If so, let's delete and upload again."
      ],
      "metadata": {
        "id": "lNi_L5_V9mZz"
      }
    },
    {
      "cell_type": "code",
      "source": [
        "# Retrieve the file list\n",
        "\n",
        "uploaded_files = openai_client.files.list()"
      ],
      "metadata": {
        "colab": {
          "base_uri": "https://localhost:8080/"
        },
        "id": "2LTwlGShzYJd",
        "outputId": "8d74a13a-3354-4afa-c251-c95fde3ae5fd"
      },
      "execution_count": 66,
      "outputs": [
        {
          "output_type": "execute_result",
          "data": {
            "text/plain": [
              "SyncPage[FileObject](data=[FileObject(id='file-ZwEPaQyglsqssGTkoqkDJEq0', bytes=1310948, created_at=1700160516, filename='2023-WilmerHale-VC-Report.pdf', object='file', purpose='assistants', status='processed', status_details=None), FileObject(id='file-KC7h7nJFf2XBmXGJP2Arzzno', bytes=24117248, created_at=1700154133, filename='Standford_AI-Index-Report_2023.pdf', object='file', purpose='assistants', status='processed', status_details=None)], object='list', has_more=False)"
            ]
          },
          "metadata": {},
          "execution_count": 66
        }
      ]
    },
    {
      "cell_type": "code",
      "source": [
        "uploaded_files.data"
      ],
      "metadata": {
        "colab": {
          "base_uri": "https://localhost:8080/"
        },
        "id": "s0YAls8qzkoH",
        "outputId": "b7981452-4b72-4693-e9d4-3158e107cc98"
      },
      "execution_count": 67,
      "outputs": [
        {
          "output_type": "execute_result",
          "data": {
            "text/plain": [
              "[FileObject(id='file-ZwEPaQyglsqssGTkoqkDJEq0', bytes=1310948, created_at=1700160516, filename='2023-WilmerHale-VC-Report.pdf', object='file', purpose='assistants', status='processed', status_details=None),\n",
              " FileObject(id='file-KC7h7nJFf2XBmXGJP2Arzzno', bytes=24117248, created_at=1700154133, filename='Standford_AI-Index-Report_2023.pdf', object='file', purpose='assistants', status='processed', status_details=None)]"
            ]
          },
          "metadata": {},
          "execution_count": 67
        }
      ]
    },
    {
      "cell_type": "code",
      "source": [
        "# Find the file by name\n",
        "\n",
        "filename_to_find = '2023-WilmerHale-VC-Report.pdf'\n",
        "the_file_id = None\n",
        "\n",
        "file_objects = list(filter(lambda x: x.filename == filename_to_find, uploaded_files.data))\n",
        "\n",
        "if len(file_objects) > 0:\n",
        "  the_file_id = file_objects[0].id"
      ],
      "metadata": {
        "colab": {
          "base_uri": "https://localhost:8080/",
          "height": 36
        },
        "id": "aROVPPAl-a-m",
        "outputId": "dba771fa-545a-4039-90b0-b00d13cb6275"
      },
      "execution_count": 112,
      "outputs": [
        {
          "output_type": "execute_result",
          "data": {
            "text/plain": [
              "'file-ZwEPaQyglsqssGTkoqkDJEq0'"
            ],
            "application/vnd.google.colaboratory.intrinsic+json": {
              "type": "string"
            }
          },
          "metadata": {},
          "execution_count": 112
        }
      ]
    },
    {
      "cell_type": "markdown",
      "source": [
        "Delete if it already exists.\n",
        "\n",
        "Notice that, this is for demonstration purpose."
      ],
      "metadata": {
        "id": "IJVmHdvP_wB1"
      }
    },
    {
      "cell_type": "code",
      "source": [
        "if not the_file_id:\n",
        "  delete_status = openai_client.files.delete(the_file_id)\n",
        "  delete_status"
      ],
      "metadata": {
        "colab": {
          "base_uri": "https://localhost:8080/"
        },
        "id": "DVouWaqgzr4Y",
        "outputId": "5864b335-6540-4c51-deed-fde749a2e896"
      },
      "execution_count": 68,
      "outputs": [
        {
          "output_type": "execute_result",
          "data": {
            "text/plain": [
              "FileDeleted(id='file-ZwEPaQyglsqssGTkoqkDJEq0', deleted=True, object='file')"
            ]
          },
          "metadata": {},
          "execution_count": 68
        }
      ]
    },
    {
      "cell_type": "markdown",
      "source": [
        "### 2. Upload the PDF file\n",
        "\n",
        "This PDF file will be the knowledge base of the RAG application."
      ],
      "metadata": {
        "id": "eBpTSwLQ_2we"
      }
    },
    {
      "cell_type": "code",
      "source": [
        "file = openai_client.files.create(\n",
        "  file=open(\"2023-WilmerHale-VC-Report.pdf\", \"rb\"),\n",
        "  purpose='assistants'\n",
        ")"
      ],
      "metadata": {
        "id": "MIbK3o4XFH1N"
      },
      "execution_count": 69,
      "outputs": []
    },
    {
      "cell_type": "code",
      "source": [
        "file"
      ],
      "metadata": {
        "colab": {
          "base_uri": "https://localhost:8080/"
        },
        "id": "4BEJW7lxFXVX",
        "outputId": "ef22c001-9ddf-4046-994b-e9f1e59b8fb0"
      },
      "execution_count": 70,
      "outputs": [
        {
          "output_type": "execute_result",
          "data": {
            "text/plain": [
              "FileObject(id='file-1zy5eXDx5nDotjUp4tybtNGl', bytes=1310948, created_at=1700166326, filename='2023-WilmerHale-VC-Report.pdf', object='file', purpose='assistants', status='processed', status_details=None)"
            ]
          },
          "metadata": {},
          "execution_count": 70
        }
      ]
    },
    {
      "cell_type": "markdown",
      "source": [
        "### 3. Retrieve the file by id\n",
        "\n",
        "This is to make sure the file is successfully uploaded."
      ],
      "metadata": {
        "id": "agL44d-1__wU"
      }
    },
    {
      "cell_type": "code",
      "source": [
        "retrieved_file = openai_client.files.retrieve(file.id)\n",
        "retrieved_file"
      ],
      "metadata": {
        "colab": {
          "base_uri": "https://localhost:8080/"
        },
        "id": "3vg3-7t3cb2_",
        "outputId": "d46b9572-933e-4456-8565-f6e2f12beffd"
      },
      "execution_count": 71,
      "outputs": [
        {
          "output_type": "execute_result",
          "data": {
            "text/plain": [
              "FileObject(id='file-1zy5eXDx5nDotjUp4tybtNGl', bytes=1310948, created_at=1700166326, filename='2023-WilmerHale-VC-Report.pdf', object='file', purpose='assistants', status='processed', status_details=None)"
            ]
          },
          "metadata": {},
          "execution_count": 71
        }
      ]
    },
    {
      "cell_type": "markdown",
      "source": [
        "### 4. Create an Assistant\n",
        "\n",
        "This Assistant will use the tool `Retrieval` and get associated with the PDF file uploaded by its id."
      ],
      "metadata": {
        "id": "ju7oOHNfAI2D"
      }
    },
    {
      "cell_type": "code",
      "source": [
        "assistant = openai_client.beta.assistants.create(\n",
        "  instructions=\"Use the file provided as your knowledge base to best respond to customer queries.\",\n",
        "  model=\"gpt-4-1106-preview\",\n",
        "  tools=[\n",
        "      { \"type\": \"retrieval\" }\n",
        "    ],\n",
        "  file_ids=[retrieved_file.id]\n",
        ")"
      ],
      "metadata": {
        "id": "iwD1noKvFds9"
      },
      "execution_count": 72,
      "outputs": []
    },
    {
      "cell_type": "markdown",
      "source": [
        "### 5. Retrieve the created Assistant\n",
        "\n",
        "It's retrieved by the assistant id.\n",
        "\n",
        "We must make sure in the response, we can see expected tool and file are associated with it."
      ],
      "metadata": {
        "id": "uAZ0Y-egATbn"
      }
    },
    {
      "cell_type": "code",
      "source": [
        "my_assistant = openai_client.beta.assistants.retrieve(assistant.id)\n",
        "my_assistant"
      ],
      "metadata": {
        "colab": {
          "base_uri": "https://localhost:8080/"
        },
        "id": "YU7XgHKfcJmG",
        "outputId": "b6cbd870-0a9d-4b3d-915c-a987c938502f"
      },
      "execution_count": 73,
      "outputs": [
        {
          "output_type": "execute_result",
          "data": {
            "text/plain": [
              "Assistant(id='asst_SppfZHCVuc2R6GDwaXbevzFc', created_at=1700166342, description=None, file_ids=['file-1zy5eXDx5nDotjUp4tybtNGl'], instructions='Use the file provided as your knowledge base to best respond to customer queries.', metadata={}, model='gpt-4-1106-preview', name=None, object='assistant', tools=[ToolRetrieval(type='retrieval')])"
            ]
          },
          "metadata": {},
          "execution_count": 73
        }
      ]
    },
    {
      "cell_type": "markdown",
      "source": [
        "### 6. (Optional) Update the Assistant\n",
        "\n",
        "I noticed once that the created assistant didn't have the tool and file associated.\n",
        "\n",
        "When it happens to you, use the `update` function to associate them again."
      ],
      "metadata": {
        "id": "Gyba9nuNAgqu"
      }
    },
    {
      "cell_type": "code",
      "source": [
        "updated_assistant = openai_client.beta.assistants.update(\n",
        "  assistant.id,\n",
        "  tools=[{\"type\": \"retrieval\"}],\n",
        "  file_ids=[retrieved_file.id],\n",
        ")\n",
        "\n",
        "updated_assistant"
      ],
      "metadata": {
        "colab": {
          "base_uri": "https://localhost:8080/"
        },
        "id": "Am6RzSLfeEs3",
        "outputId": "ac101a4a-6283-4234-f67d-e536186e9853"
      },
      "execution_count": 74,
      "outputs": [
        {
          "output_type": "execute_result",
          "data": {
            "text/plain": [
              "Assistant(id='asst_SppfZHCVuc2R6GDwaXbevzFc', created_at=1700166342, description=None, file_ids=['file-1zy5eXDx5nDotjUp4tybtNGl'], instructions='Use the file provided as your knowledge base to best respond to customer queries.', metadata={}, model='gpt-4-1106-preview', name=None, object='assistant', tools=[ToolRetrieval(type='retrieval')])"
            ]
          },
          "metadata": {},
          "execution_count": 74
        }
      ]
    },
    {
      "cell_type": "markdown",
      "source": [
        "### 7. Create a Thread"
      ],
      "metadata": {
        "id": "e1pi3ta8AvX4"
      }
    },
    {
      "cell_type": "code",
      "source": [
        "thread = openai_client.beta.threads.create()\n",
        "\n",
        "thread"
      ],
      "metadata": {
        "colab": {
          "base_uri": "https://localhost:8080/"
        },
        "id": "5H1cR3XdF0R1",
        "outputId": "6f294a23-38ee-43f6-c745-b7dd3be8e836"
      },
      "execution_count": 75,
      "outputs": [
        {
          "output_type": "execute_result",
          "data": {
            "text/plain": [
              "Thread(id='thread_NZiAnVdOnC8eGmY2YZ9mhhNE', created_at=1700166375, metadata={}, object='thread')"
            ]
          },
          "metadata": {},
          "execution_count": 75
        }
      ]
    },
    {
      "cell_type": "markdown",
      "source": [
        "### 8. Create a Message\n",
        "\n",
        "We are going to use a message object to request the Assistant to extract the content architecture out of the PDF file."
      ],
      "metadata": {
        "id": "PiCMxyJNAyEU"
      }
    },
    {
      "cell_type": "code",
      "source": [
        "thread_message = openai_client.beta.threads.messages.create(\n",
        "  thread_id=thread.id,\n",
        "  role=\"user\",\n",
        "  content=\"Please show me the content architecture of this report\",\n",
        ")\n",
        "thread_message"
      ],
      "metadata": {
        "colab": {
          "base_uri": "https://localhost:8080/"
        },
        "id": "sD4YL8apMoUV",
        "outputId": "ef4db6f2-0ae1-4cd4-a683-f73c61cc23f6"
      },
      "execution_count": 76,
      "outputs": [
        {
          "output_type": "execute_result",
          "data": {
            "text/plain": [
              "ThreadMessage(id='msg_QgS09ltpTM4rv9IV2sTLxSOP', assistant_id=None, content=[MessageContentText(text=Text(annotations=[], value='Please show me the content architecture of this report'), type='text')], created_at=1700166400, file_ids=[], metadata={}, object='thread.message', role='user', run_id=None, thread_id='thread_NZiAnVdOnC8eGmY2YZ9mhhNE')"
            ]
          },
          "metadata": {},
          "execution_count": 76
        }
      ]
    },
    {
      "cell_type": "markdown",
      "source": [
        "### 9. Create a Run\n",
        "\n",
        "A `Run` triggers the interaction to the LLM."
      ],
      "metadata": {
        "id": "x8jMsm-DBG8R"
      }
    },
    {
      "cell_type": "code",
      "source": [
        "run = openai_client.beta.threads.runs.create(\n",
        "  thread_id=thread.id,\n",
        "  assistant_id=updated_assistant.id\n",
        ")"
      ],
      "metadata": {
        "id": "Yp1Fr_FEL65n"
      },
      "execution_count": 77,
      "outputs": []
    },
    {
      "cell_type": "markdown",
      "source": [
        "### 10. Retrieve the Run\n",
        "\n",
        "The `Run` is done in async mode, so we need to query the status of the Run by id."
      ],
      "metadata": {
        "id": "o7HYAnqABRay"
      }
    },
    {
      "cell_type": "code",
      "source": [
        "retrieved_run = openai_client.beta.threads.runs.retrieve(\n",
        "  thread_id=thread.id,\n",
        "  run_id=run.id\n",
        ")"
      ],
      "metadata": {
        "id": "rCv4p11TNJUu"
      },
      "execution_count": 89,
      "outputs": []
    },
    {
      "cell_type": "code",
      "source": [
        "retrieved_run"
      ],
      "metadata": {
        "colab": {
          "base_uri": "https://localhost:8080/"
        },
        "id": "nILYSfeINRnw",
        "outputId": "075ae6c8-c923-4e5b-e422-39224e94b934"
      },
      "execution_count": 90,
      "outputs": [
        {
          "output_type": "execute_result",
          "data": {
            "text/plain": [
              "Run(id='run_CwKTCGJ5to1A2Jus6h51mUrY', assistant_id='asst_SppfZHCVuc2R6GDwaXbevzFc', cancelled_at=None, completed_at=1700166420, created_at=1700166406, expires_at=None, failed_at=None, file_ids=['file-1zy5eXDx5nDotjUp4tybtNGl'], instructions='Use the file provided as your knowledge base to best respond to customer queries.', last_error=None, metadata={}, model='gpt-4-1106-preview', object='thread.run', required_action=None, started_at=1700166406, status='completed', thread_id='thread_NZiAnVdOnC8eGmY2YZ9mhhNE', tools=[ToolAssistantToolsRetrieval(type='retrieval')])"
            ]
          },
          "metadata": {},
          "execution_count": 90
        }
      ]
    },
    {
      "cell_type": "markdown",
      "source": [
        "### 11. Retrieve the message list of the Thread\n",
        "\n",
        "Until the Run is completed, retrieve the message list and fetch the latest message of the list which is the response of the LLM."
      ],
      "metadata": {
        "id": "fCcSFIXoBc6i"
      }
    },
    {
      "cell_type": "code",
      "source": [
        "thread_messages = openai_client.beta.threads.messages.list(thread.id)\n",
        "thread_messages.data"
      ],
      "metadata": {
        "colab": {
          "base_uri": "https://localhost:8080/"
        },
        "id": "dAbqv9S7Ne3n",
        "outputId": "7a805ccb-58f2-4560-e35c-eeacface7e0d"
      },
      "execution_count": 91,
      "outputs": [
        {
          "output_type": "execute_result",
          "data": {
            "text/plain": [
              "[ThreadMessage(id='msg_GNUsgOWukeSEUPq7URylKO75', assistant_id='asst_SppfZHCVuc2R6GDwaXbevzFc', content=[MessageContentText(text=Text(annotations=[TextAnnotationFileCitation(end_index=799, file_citation=TextAnnotationFileCitationFileCitation(file_id='file-1zy5eXDx5nDotjUp4tybtNGl', quote='2023 Venture Capital Report – What’s Inside\\n\\n\\n2  US Market Review and Outlook\\n\\n\\n6  Regional Market Review and Outlook\\n\\n\\n10 Selected WilmerHale Venture Capital Financings\\n\\n\\n12 New Law Requires Federal Reporting of Private Company Ownership\\nMany Startups and Life Sciences Companies Will be Subject to Beneficial Ownership\\nReporting\\n\\n\\n13 Show Me the Money\\nWhat Employers Need to Know About New Salary Disclosure Laws\\n\\n\\n14 Navigating the Quiet Period Shoals\\nSafe Harbors Aid Compliance With Quiet Period Requirements\\n\\n\\n16 State Taxation of Qualified Small Business Stock\\nFederal Tax Exclusion Not Always Replicated at State Level\\n\\n\\n17 Trends in VC-Backed Company M&A Deal Terms\\n\\n\\n18 Trends in Convertible Note and SAFE Terms\\n\\n\\n19 Trends in Venture Capital Financing Terms'), start_index=789, text='【7†source】', type='file_citation')], value='The content architecture of the 2023 Venture Capital Report is organized as follows:\\n\\n- US Market Review and Outlook (Page 2)\\n- Regional Market Review and Outlook (Page 6)\\n- Selected WilmerHale Venture Capital Financings (Page 10)\\n- New Law Requires Federal Reporting of Private Company Ownership (Page 12)\\n- Show Me the Money: What Employers Need to Know About New Salary Disclosure Laws (Page 13)\\n- Navigating the Quiet Period Shoals: Safe Harbors Aid Compliance With Quiet Period Requirements (Page 14)\\n- State Taxation of Qualified Small Business Stock: Federal Tax Exclusion Not Always Replicated at State Level (Page 16)\\n- Trends in VC-Backed Company M&A Deal Terms (Page 17)\\n- Trends in Convertible Note and SAFE Terms (Page 18)\\n- Trends in Venture Capital Financing Terms (Page 19)【7†source】.'), type='text')], created_at=1700166411, file_ids=[], metadata={}, object='thread.message', role='assistant', run_id='run_CwKTCGJ5to1A2Jus6h51mUrY', thread_id='thread_NZiAnVdOnC8eGmY2YZ9mhhNE'),\n",
              " ThreadMessage(id='msg_QgS09ltpTM4rv9IV2sTLxSOP', assistant_id=None, content=[MessageContentText(text=Text(annotations=[], value='Please show me the content architecture of this report'), type='text')], created_at=1700166400, file_ids=[], metadata={}, object='thread.message', role='user', run_id=None, thread_id='thread_NZiAnVdOnC8eGmY2YZ9mhhNE')]"
            ]
          },
          "metadata": {},
          "execution_count": 91
        }
      ]
    },
    {
      "cell_type": "code",
      "source": [
        "print(thread_messages.data[0].content[0].text.value)"
      ],
      "metadata": {
        "colab": {
          "base_uri": "https://localhost:8080/"
        },
        "id": "cxVMc18Tem5u",
        "outputId": "cc6b85bc-fab8-4e75-95dd-82760d6a401c"
      },
      "execution_count": 104,
      "outputs": [
        {
          "output_type": "stream",
          "name": "stdout",
          "text": [
            "The content architecture of the 2023 Venture Capital Report is organized as follows:\n",
            "\n",
            "- US Market Review and Outlook (Page 2)\n",
            "- Regional Market Review and Outlook (Page 6)\n",
            "- Selected WilmerHale Venture Capital Financings (Page 10)\n",
            "- New Law Requires Federal Reporting of Private Company Ownership (Page 12)\n",
            "- Show Me the Money: What Employers Need to Know About New Salary Disclosure Laws (Page 13)\n",
            "- Navigating the Quiet Period Shoals: Safe Harbors Aid Compliance With Quiet Period Requirements (Page 14)\n",
            "- State Taxation of Qualified Small Business Stock: Federal Tax Exclusion Not Always Replicated at State Level (Page 16)\n",
            "- Trends in VC-Backed Company M&A Deal Terms (Page 17)\n",
            "- Trends in Convertible Note and SAFE Terms (Page 18)\n",
            "- Trends in Venture Capital Financing Terms (Page 19)【7†source】.\n"
          ]
        }
      ]
    }
  ]
}