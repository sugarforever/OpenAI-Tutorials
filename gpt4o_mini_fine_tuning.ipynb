{
  "nbformat": 4,
  "nbformat_minor": 0,
  "metadata": {
    "colab": {
      "provenance": [],
      "include_colab_link": true
    },
    "kernelspec": {
      "name": "python3",
      "display_name": "Python 3"
    },
    "language_info": {
      "name": "python"
    }
  },
  "cells": [
    {
      "cell_type": "markdown",
      "metadata": {
        "id": "view-in-github",
        "colab_type": "text"
      },
      "source": [
        "<a href=\"https://colab.research.google.com/github/sugarforever/OpenAI-Tutorials/blob/main/gpt4o_mini_fine_tuning.ipynb\" target=\"_parent\"><img src=\"https://colab.research.google.com/assets/colab-badge.svg\" alt=\"Open In Colab\"/></a>"
      ]
    },
    {
      "cell_type": "markdown",
      "source": [
        "## Set Up Environment"
      ],
      "metadata": {
        "id": "YhwwvuUggrQG"
      }
    },
    {
      "cell_type": "code",
      "execution_count": 1,
      "metadata": {
        "colab": {
          "base_uri": "https://localhost:8080/"
        },
        "id": "K6pNBFzcer0X",
        "outputId": "9a7c02e0-6167-43aa-ceba-d6aa21b5558b"
      },
      "outputs": [
        {
          "output_type": "stream",
          "name": "stdout",
          "text": [
            "\u001b[?25l   \u001b[90m━━━━━━━━━━━━━━━━━━━━━━━━━━━━━━━━━━━━━━━━\u001b[0m \u001b[32m0.0/337.0 kB\u001b[0m \u001b[31m?\u001b[0m eta \u001b[36m-:--:--\u001b[0m\r\u001b[2K   \u001b[91m━━━━━━━━━━━━━━━━━━━━━━━━━━━━━━━━━━━━━━\u001b[0m\u001b[91m╸\u001b[0m\u001b[90m━\u001b[0m \u001b[32m327.7/337.0 kB\u001b[0m \u001b[31m14.6 MB/s\u001b[0m eta \u001b[36m0:00:01\u001b[0m\r\u001b[2K   \u001b[90m━━━━━━━━━━━━━━━━━━━━━━━━━━━━━━━━━━━━━━━━\u001b[0m \u001b[32m337.0/337.0 kB\u001b[0m \u001b[31m8.6 MB/s\u001b[0m eta \u001b[36m0:00:00\u001b[0m\n",
            "\u001b[?25h\u001b[?25l   \u001b[90m━━━━━━━━━━━━━━━━━━━━━━━━━━━━━━━━━━━━━━━━\u001b[0m \u001b[32m0.0/75.6 kB\u001b[0m \u001b[31m?\u001b[0m eta \u001b[36m-:--:--\u001b[0m\r\u001b[2K   \u001b[90m━━━━━━━━━━━━━━━━━━━━━━━━━━━━━━━━━━━━━━━━\u001b[0m \u001b[32m75.6/75.6 kB\u001b[0m \u001b[31m4.5 MB/s\u001b[0m eta \u001b[36m0:00:00\u001b[0m\n",
            "\u001b[?25h\u001b[?25l   \u001b[90m━━━━━━━━━━━━━━━━━━━━━━━━━━━━━━━━━━━━━━━━\u001b[0m \u001b[32m0.0/77.9 kB\u001b[0m \u001b[31m?\u001b[0m eta \u001b[36m-:--:--\u001b[0m\r\u001b[2K   \u001b[90m━━━━━━━━━━━━━━━━━━━━━━━━━━━━━━━━━━━━━━━━\u001b[0m \u001b[32m77.9/77.9 kB\u001b[0m \u001b[31m4.0 MB/s\u001b[0m eta \u001b[36m0:00:00\u001b[0m\n",
            "\u001b[?25h\u001b[?25l   \u001b[90m━━━━━━━━━━━━━━━━━━━━━━━━━━━━━━━━━━━━━━━━\u001b[0m \u001b[32m0.0/58.3 kB\u001b[0m \u001b[31m?\u001b[0m eta \u001b[36m-:--:--\u001b[0m\r\u001b[2K   \u001b[90m━━━━━━━━━━━━━━━━━━━━━━━━━━━━━━━━━━━━━━━━\u001b[0m \u001b[32m58.3/58.3 kB\u001b[0m \u001b[31m3.8 MB/s\u001b[0m eta \u001b[36m0:00:00\u001b[0m\n",
            "\u001b[?25h"
          ]
        }
      ],
      "source": [
        "!pip install --upgrade --quiet openai"
      ]
    },
    {
      "cell_type": "code",
      "source": [
        "from google.colab import userdata\n",
        "import os\n",
        "\n",
        "os.environ[\"OPENAI_API_KEY\"] = userdata.get('OPENAI_API_KEY')"
      ],
      "metadata": {
        "id": "kFaWZqnbfN1k"
      },
      "execution_count": 2,
      "outputs": []
    },
    {
      "cell_type": "code",
      "source": [
        "import json\n",
        "import openai\n",
        "import os\n",
        "import pandas as pd\n",
        "from pprint import pprint\n",
        "\n",
        "client = openai.OpenAI()"
      ],
      "metadata": {
        "id": "r8r4EUxCfYOE"
      },
      "execution_count": 3,
      "outputs": []
    },
    {
      "cell_type": "code",
      "source": [
        "recipe_df = pd.read_csv(\"/content/cookbook_recipes_nlg_10k.csv\")\n",
        "\n",
        "recipe_df.head()"
      ],
      "metadata": {
        "colab": {
          "base_uri": "https://localhost:8080/",
          "height": 276
        },
        "id": "sIPRcIwdfiMA",
        "outputId": "a61025d1-0862-4e48-8ede-df5a3660a93e"
      },
      "execution_count": 4,
      "outputs": [
        {
          "output_type": "execute_result",
          "data": {
            "text/plain": [
              "                   title                                        ingredients  \\\n",
              "0    No-Bake Nut Cookies  [\"1 c. firmly packed brown sugar\", \"1/2 c. eva...   \n",
              "1  Jewell Ball'S Chicken  [\"1 small jar chipped beef, cut up\", \"4 boned ...   \n",
              "2            Creamy Corn  [\"2 (16 oz.) pkg. frozen corn\", \"1 (8 oz.) pkg...   \n",
              "3          Chicken Funny  [\"1 large whole chicken\", \"2 (10 1/2 oz.) cans...   \n",
              "4   Reeses Cups(Candy)    [\"1 c. peanut butter\", \"3/4 c. graham cracker ...   \n",
              "\n",
              "                                          directions  \\\n",
              "0  [\"In a heavy 2-quart saucepan, mix brown sugar...   \n",
              "1  [\"Place chipped beef on bottom of baking dish....   \n",
              "2  [\"In a slow cooker, combine all ingredients. C...   \n",
              "3  [\"Boil and debone chicken.\", \"Put bite size pi...   \n",
              "4  [\"Combine first four ingredients and press in ...   \n",
              "\n",
              "                                              link             source  \\\n",
              "0   www.cookbooks.com/Recipe-Details.aspx?id=44874  www.cookbooks.com   \n",
              "1  www.cookbooks.com/Recipe-Details.aspx?id=699419  www.cookbooks.com   \n",
              "2   www.cookbooks.com/Recipe-Details.aspx?id=10570  www.cookbooks.com   \n",
              "3  www.cookbooks.com/Recipe-Details.aspx?id=897570  www.cookbooks.com   \n",
              "4  www.cookbooks.com/Recipe-Details.aspx?id=659239  www.cookbooks.com   \n",
              "\n",
              "                                                 NER  \n",
              "0  [\"brown sugar\", \"milk\", \"vanilla\", \"nuts\", \"bu...  \n",
              "1  [\"beef\", \"chicken breasts\", \"cream of mushroom...  \n",
              "2  [\"frozen corn\", \"cream cheese\", \"butter\", \"gar...  \n",
              "3  [\"chicken\", \"chicken gravy\", \"cream of mushroo...  \n",
              "4  [\"peanut butter\", \"graham cracker crumbs\", \"bu...  "
            ],
            "text/html": [
              "\n",
              "  <div id=\"df-cd2ce78b-f966-4b53-9df0-ed69edc5e31d\" class=\"colab-df-container\">\n",
              "    <div>\n",
              "<style scoped>\n",
              "    .dataframe tbody tr th:only-of-type {\n",
              "        vertical-align: middle;\n",
              "    }\n",
              "\n",
              "    .dataframe tbody tr th {\n",
              "        vertical-align: top;\n",
              "    }\n",
              "\n",
              "    .dataframe thead th {\n",
              "        text-align: right;\n",
              "    }\n",
              "</style>\n",
              "<table border=\"1\" class=\"dataframe\">\n",
              "  <thead>\n",
              "    <tr style=\"text-align: right;\">\n",
              "      <th></th>\n",
              "      <th>title</th>\n",
              "      <th>ingredients</th>\n",
              "      <th>directions</th>\n",
              "      <th>link</th>\n",
              "      <th>source</th>\n",
              "      <th>NER</th>\n",
              "    </tr>\n",
              "  </thead>\n",
              "  <tbody>\n",
              "    <tr>\n",
              "      <th>0</th>\n",
              "      <td>No-Bake Nut Cookies</td>\n",
              "      <td>[\"1 c. firmly packed brown sugar\", \"1/2 c. eva...</td>\n",
              "      <td>[\"In a heavy 2-quart saucepan, mix brown sugar...</td>\n",
              "      <td>www.cookbooks.com/Recipe-Details.aspx?id=44874</td>\n",
              "      <td>www.cookbooks.com</td>\n",
              "      <td>[\"brown sugar\", \"milk\", \"vanilla\", \"nuts\", \"bu...</td>\n",
              "    </tr>\n",
              "    <tr>\n",
              "      <th>1</th>\n",
              "      <td>Jewell Ball'S Chicken</td>\n",
              "      <td>[\"1 small jar chipped beef, cut up\", \"4 boned ...</td>\n",
              "      <td>[\"Place chipped beef on bottom of baking dish....</td>\n",
              "      <td>www.cookbooks.com/Recipe-Details.aspx?id=699419</td>\n",
              "      <td>www.cookbooks.com</td>\n",
              "      <td>[\"beef\", \"chicken breasts\", \"cream of mushroom...</td>\n",
              "    </tr>\n",
              "    <tr>\n",
              "      <th>2</th>\n",
              "      <td>Creamy Corn</td>\n",
              "      <td>[\"2 (16 oz.) pkg. frozen corn\", \"1 (8 oz.) pkg...</td>\n",
              "      <td>[\"In a slow cooker, combine all ingredients. C...</td>\n",
              "      <td>www.cookbooks.com/Recipe-Details.aspx?id=10570</td>\n",
              "      <td>www.cookbooks.com</td>\n",
              "      <td>[\"frozen corn\", \"cream cheese\", \"butter\", \"gar...</td>\n",
              "    </tr>\n",
              "    <tr>\n",
              "      <th>3</th>\n",
              "      <td>Chicken Funny</td>\n",
              "      <td>[\"1 large whole chicken\", \"2 (10 1/2 oz.) cans...</td>\n",
              "      <td>[\"Boil and debone chicken.\", \"Put bite size pi...</td>\n",
              "      <td>www.cookbooks.com/Recipe-Details.aspx?id=897570</td>\n",
              "      <td>www.cookbooks.com</td>\n",
              "      <td>[\"chicken\", \"chicken gravy\", \"cream of mushroo...</td>\n",
              "    </tr>\n",
              "    <tr>\n",
              "      <th>4</th>\n",
              "      <td>Reeses Cups(Candy)</td>\n",
              "      <td>[\"1 c. peanut butter\", \"3/4 c. graham cracker ...</td>\n",
              "      <td>[\"Combine first four ingredients and press in ...</td>\n",
              "      <td>www.cookbooks.com/Recipe-Details.aspx?id=659239</td>\n",
              "      <td>www.cookbooks.com</td>\n",
              "      <td>[\"peanut butter\", \"graham cracker crumbs\", \"bu...</td>\n",
              "    </tr>\n",
              "  </tbody>\n",
              "</table>\n",
              "</div>\n",
              "    <div class=\"colab-df-buttons\">\n",
              "\n",
              "  <div class=\"colab-df-container\">\n",
              "    <button class=\"colab-df-convert\" onclick=\"convertToInteractive('df-cd2ce78b-f966-4b53-9df0-ed69edc5e31d')\"\n",
              "            title=\"Convert this dataframe to an interactive table.\"\n",
              "            style=\"display:none;\">\n",
              "\n",
              "  <svg xmlns=\"http://www.w3.org/2000/svg\" height=\"24px\" viewBox=\"0 -960 960 960\">\n",
              "    <path d=\"M120-120v-720h720v720H120Zm60-500h600v-160H180v160Zm220 220h160v-160H400v160Zm0 220h160v-160H400v160ZM180-400h160v-160H180v160Zm440 0h160v-160H620v160ZM180-180h160v-160H180v160Zm440 0h160v-160H620v160Z\"/>\n",
              "  </svg>\n",
              "    </button>\n",
              "\n",
              "  <style>\n",
              "    .colab-df-container {\n",
              "      display:flex;\n",
              "      gap: 12px;\n",
              "    }\n",
              "\n",
              "    .colab-df-convert {\n",
              "      background-color: #E8F0FE;\n",
              "      border: none;\n",
              "      border-radius: 50%;\n",
              "      cursor: pointer;\n",
              "      display: none;\n",
              "      fill: #1967D2;\n",
              "      height: 32px;\n",
              "      padding: 0 0 0 0;\n",
              "      width: 32px;\n",
              "    }\n",
              "\n",
              "    .colab-df-convert:hover {\n",
              "      background-color: #E2EBFA;\n",
              "      box-shadow: 0px 1px 2px rgba(60, 64, 67, 0.3), 0px 1px 3px 1px rgba(60, 64, 67, 0.15);\n",
              "      fill: #174EA6;\n",
              "    }\n",
              "\n",
              "    .colab-df-buttons div {\n",
              "      margin-bottom: 4px;\n",
              "    }\n",
              "\n",
              "    [theme=dark] .colab-df-convert {\n",
              "      background-color: #3B4455;\n",
              "      fill: #D2E3FC;\n",
              "    }\n",
              "\n",
              "    [theme=dark] .colab-df-convert:hover {\n",
              "      background-color: #434B5C;\n",
              "      box-shadow: 0px 1px 3px 1px rgba(0, 0, 0, 0.15);\n",
              "      filter: drop-shadow(0px 1px 2px rgba(0, 0, 0, 0.3));\n",
              "      fill: #FFFFFF;\n",
              "    }\n",
              "  </style>\n",
              "\n",
              "    <script>\n",
              "      const buttonEl =\n",
              "        document.querySelector('#df-cd2ce78b-f966-4b53-9df0-ed69edc5e31d button.colab-df-convert');\n",
              "      buttonEl.style.display =\n",
              "        google.colab.kernel.accessAllowed ? 'block' : 'none';\n",
              "\n",
              "      async function convertToInteractive(key) {\n",
              "        const element = document.querySelector('#df-cd2ce78b-f966-4b53-9df0-ed69edc5e31d');\n",
              "        const dataTable =\n",
              "          await google.colab.kernel.invokeFunction('convertToInteractive',\n",
              "                                                    [key], {});\n",
              "        if (!dataTable) return;\n",
              "\n",
              "        const docLinkHtml = 'Like what you see? Visit the ' +\n",
              "          '<a target=\"_blank\" href=https://colab.research.google.com/notebooks/data_table.ipynb>data table notebook</a>'\n",
              "          + ' to learn more about interactive tables.';\n",
              "        element.innerHTML = '';\n",
              "        dataTable['output_type'] = 'display_data';\n",
              "        await google.colab.output.renderOutput(dataTable, element);\n",
              "        const docLink = document.createElement('div');\n",
              "        docLink.innerHTML = docLinkHtml;\n",
              "        element.appendChild(docLink);\n",
              "      }\n",
              "    </script>\n",
              "  </div>\n",
              "\n",
              "\n",
              "<div id=\"df-20ad0922-37b4-4f0b-8fcb-7dc7a41626dd\">\n",
              "  <button class=\"colab-df-quickchart\" onclick=\"quickchart('df-20ad0922-37b4-4f0b-8fcb-7dc7a41626dd')\"\n",
              "            title=\"Suggest charts\"\n",
              "            style=\"display:none;\">\n",
              "\n",
              "<svg xmlns=\"http://www.w3.org/2000/svg\" height=\"24px\"viewBox=\"0 0 24 24\"\n",
              "     width=\"24px\">\n",
              "    <g>\n",
              "        <path d=\"M19 3H5c-1.1 0-2 .9-2 2v14c0 1.1.9 2 2 2h14c1.1 0 2-.9 2-2V5c0-1.1-.9-2-2-2zM9 17H7v-7h2v7zm4 0h-2V7h2v10zm4 0h-2v-4h2v4z\"/>\n",
              "    </g>\n",
              "</svg>\n",
              "  </button>\n",
              "\n",
              "<style>\n",
              "  .colab-df-quickchart {\n",
              "      --bg-color: #E8F0FE;\n",
              "      --fill-color: #1967D2;\n",
              "      --hover-bg-color: #E2EBFA;\n",
              "      --hover-fill-color: #174EA6;\n",
              "      --disabled-fill-color: #AAA;\n",
              "      --disabled-bg-color: #DDD;\n",
              "  }\n",
              "\n",
              "  [theme=dark] .colab-df-quickchart {\n",
              "      --bg-color: #3B4455;\n",
              "      --fill-color: #D2E3FC;\n",
              "      --hover-bg-color: #434B5C;\n",
              "      --hover-fill-color: #FFFFFF;\n",
              "      --disabled-bg-color: #3B4455;\n",
              "      --disabled-fill-color: #666;\n",
              "  }\n",
              "\n",
              "  .colab-df-quickchart {\n",
              "    background-color: var(--bg-color);\n",
              "    border: none;\n",
              "    border-radius: 50%;\n",
              "    cursor: pointer;\n",
              "    display: none;\n",
              "    fill: var(--fill-color);\n",
              "    height: 32px;\n",
              "    padding: 0;\n",
              "    width: 32px;\n",
              "  }\n",
              "\n",
              "  .colab-df-quickchart:hover {\n",
              "    background-color: var(--hover-bg-color);\n",
              "    box-shadow: 0 1px 2px rgba(60, 64, 67, 0.3), 0 1px 3px 1px rgba(60, 64, 67, 0.15);\n",
              "    fill: var(--button-hover-fill-color);\n",
              "  }\n",
              "\n",
              "  .colab-df-quickchart-complete:disabled,\n",
              "  .colab-df-quickchart-complete:disabled:hover {\n",
              "    background-color: var(--disabled-bg-color);\n",
              "    fill: var(--disabled-fill-color);\n",
              "    box-shadow: none;\n",
              "  }\n",
              "\n",
              "  .colab-df-spinner {\n",
              "    border: 2px solid var(--fill-color);\n",
              "    border-color: transparent;\n",
              "    border-bottom-color: var(--fill-color);\n",
              "    animation:\n",
              "      spin 1s steps(1) infinite;\n",
              "  }\n",
              "\n",
              "  @keyframes spin {\n",
              "    0% {\n",
              "      border-color: transparent;\n",
              "      border-bottom-color: var(--fill-color);\n",
              "      border-left-color: var(--fill-color);\n",
              "    }\n",
              "    20% {\n",
              "      border-color: transparent;\n",
              "      border-left-color: var(--fill-color);\n",
              "      border-top-color: var(--fill-color);\n",
              "    }\n",
              "    30% {\n",
              "      border-color: transparent;\n",
              "      border-left-color: var(--fill-color);\n",
              "      border-top-color: var(--fill-color);\n",
              "      border-right-color: var(--fill-color);\n",
              "    }\n",
              "    40% {\n",
              "      border-color: transparent;\n",
              "      border-right-color: var(--fill-color);\n",
              "      border-top-color: var(--fill-color);\n",
              "    }\n",
              "    60% {\n",
              "      border-color: transparent;\n",
              "      border-right-color: var(--fill-color);\n",
              "    }\n",
              "    80% {\n",
              "      border-color: transparent;\n",
              "      border-right-color: var(--fill-color);\n",
              "      border-bottom-color: var(--fill-color);\n",
              "    }\n",
              "    90% {\n",
              "      border-color: transparent;\n",
              "      border-bottom-color: var(--fill-color);\n",
              "    }\n",
              "  }\n",
              "</style>\n",
              "\n",
              "  <script>\n",
              "    async function quickchart(key) {\n",
              "      const quickchartButtonEl =\n",
              "        document.querySelector('#' + key + ' button');\n",
              "      quickchartButtonEl.disabled = true;  // To prevent multiple clicks.\n",
              "      quickchartButtonEl.classList.add('colab-df-spinner');\n",
              "      try {\n",
              "        const charts = await google.colab.kernel.invokeFunction(\n",
              "            'suggestCharts', [key], {});\n",
              "      } catch (error) {\n",
              "        console.error('Error during call to suggestCharts:', error);\n",
              "      }\n",
              "      quickchartButtonEl.classList.remove('colab-df-spinner');\n",
              "      quickchartButtonEl.classList.add('colab-df-quickchart-complete');\n",
              "    }\n",
              "    (() => {\n",
              "      let quickchartButtonEl =\n",
              "        document.querySelector('#df-20ad0922-37b4-4f0b-8fcb-7dc7a41626dd button');\n",
              "      quickchartButtonEl.style.display =\n",
              "        google.colab.kernel.accessAllowed ? 'block' : 'none';\n",
              "    })();\n",
              "  </script>\n",
              "</div>\n",
              "\n",
              "    </div>\n",
              "  </div>\n"
            ],
            "application/vnd.google.colaboratory.intrinsic+json": {
              "type": "dataframe",
              "variable_name": "recipe_df",
              "summary": "{\n  \"name\": \"recipe_df\",\n  \"rows\": 10000,\n  \"fields\": [\n    {\n      \"column\": \"title\",\n      \"properties\": {\n        \"dtype\": \"string\",\n        \"num_unique_values\": 7194,\n        \"samples\": [\n          \"Strawberry Shake\",\n          \"Pumpkin Chiffon Cake\",\n          \"Black Bean Salad\"\n        ],\n        \"semantic_type\": \"\",\n        \"description\": \"\"\n      }\n    },\n    {\n      \"column\": \"ingredients\",\n      \"properties\": {\n        \"dtype\": \"string\",\n        \"num_unique_values\": 9999,\n        \"samples\": [\n          \"[\\\"2 sticks margarine\\\", \\\"1/2 c. sugar\\\", \\\"graham crackers\\\", \\\"chopped nuts\\\", \\\"Hershey bars\\\"]\",\n          \"[\\\"2 c. coarsely chopped pretzels\\\", \\\"3/4 c. melted margarine\\\", \\\"2 Tbsp. sugar\\\", \\\"8 oz. cream cheese, softened\\\", \\\"8 oz. whipped topping\\\", \\\"1/2 c. sugar\\\", \\\"1 large pkg. strawberry jello\\\", \\\"2 c. boiling water\\\", \\\"2 (10 oz.) pkg. frozen strawberries\\\"]\",\n          \"[\\\"4 (6 oz.) boneless, skinned chicken breasts\\\", \\\"3 Tbsp. flour\\\", \\\"1 Tbsp. curry powder\\\", \\\"4 Tbsp. oil\\\", \\\"1 Tbsp. sugar\\\", \\\"2 chicken bouillon cubes\\\", \\\"1 c. water\\\", \\\"16 oz. can apricots\\\", \\\"1/2 c. chopped onion\\\", \\\"1 c. sliced mushrooms\\\", \\\"2 Tbsp. soy sauce\\\", \\\"2 Tbsp. lemon juice\\\"]\"\n        ],\n        \"semantic_type\": \"\",\n        \"description\": \"\"\n      }\n    },\n    {\n      \"column\": \"directions\",\n      \"properties\": {\n        \"dtype\": \"string\",\n        \"num_unique_values\": 9989,\n        \"samples\": [\n          \"[\\\"Adjust oven rack to lowest position.\\\", \\\"Preheat oven to 350\\\\u00b0. In food processor with steel blade, combine flour, salt and Crisco; pulse about 6 seconds, until mixture resembles coarse crumbs.\\\", \\\"Add milk and process until dough forms a ball.\\\", \\\"Continue processing 2 minutes.\\\", \\\"On floured surface, roll dough into rectangle 1/4-inch thick.\\\", \\\"Fold dough in half, pressing lightly. With a 1 1/2-inch biscuit cutter, cut out dough and place on cookie sheet.\\\", \\\"Re-roll scraps and repeat, cutting more biscuits. Prick each biscuit with a fork.\\\", \\\"Bake 30 to 35 minutes, until pale golden.\\\", \\\"Turn off oven, leave biscuits in oven for 35 minutes. Makes about 2 1/2 dozen.\\\", \\\"Contains 100 calories each.\\\"]\",\n          \"[\\\"Cream the margarine, cream cheese and sugar.\\\", \\\"Add eggs and vanilla; beat well.\\\", \\\"Sift together the flour, baking powder, baking soda and salt.\\\", \\\"Add alternately with milk, mixing well after each addition. Pour into a greased and floured 13 x 9-inch pan.\\\", \\\"Sprinkle with crumb topping.\\\", \\\"Bake at 350\\\\u00b0 for 35 to 40 minutes.\\\"]\",\n          \"[\\\"Mix in pan the sugar, cornstarch and salt. Stir milk in gradually. Cook, stirring constantly, until mixture boils.\\\", \\\"Remove from heat.\\\", \\\"Stir in vanilla.\\\"]\"\n        ],\n        \"semantic_type\": \"\",\n        \"description\": \"\"\n      }\n    },\n    {\n      \"column\": \"link\",\n      \"properties\": {\n        \"dtype\": \"string\",\n        \"num_unique_values\": 10000,\n        \"samples\": [\n          \"www.cookbooks.com/Recipe-Details.aspx?id=1062310\",\n          \"www.cookbooks.com/Recipe-Details.aspx?id=217349\",\n          \"www.cookbooks.com/Recipe-Details.aspx?id=1018986\"\n        ],\n        \"semantic_type\": \"\",\n        \"description\": \"\"\n      }\n    },\n    {\n      \"column\": \"source\",\n      \"properties\": {\n        \"dtype\": \"category\",\n        \"num_unique_values\": 1,\n        \"samples\": [\n          \"www.cookbooks.com\"\n        ],\n        \"semantic_type\": \"\",\n        \"description\": \"\"\n      }\n    },\n    {\n      \"column\": \"NER\",\n      \"properties\": {\n        \"dtype\": \"string\",\n        \"num_unique_values\": 9953,\n        \"samples\": [\n          \"[\\\"egg\\\", \\\"celery\\\", \\\"potatoes\\\", \\\"pimentos\\\", \\\"onions\\\", \\\"yogurt\\\", \\\"mustard\\\", \\\"salt\\\"]\"\n        ],\n        \"semantic_type\": \"\",\n        \"description\": \"\"\n      }\n    }\n  ]\n}"
            }
          },
          "metadata": {},
          "execution_count": 4
        }
      ]
    },
    {
      "cell_type": "markdown",
      "source": [
        "## Prepare Data for Training and Validation"
      ],
      "metadata": {
        "id": "8DVqrVASgj3x"
      }
    },
    {
      "cell_type": "code",
      "source": [
        "system_message = \"You are a helpful recipe assistant. You are to extract the generic ingredients from each of the recipes provided.\"\n",
        "\n",
        "\n",
        "def create_user_message(row):\n",
        "    return f\"Title: {row['title']}\\n\\nIngredients: {row['ingredients']}\\n\\nGeneric ingredients: \"\n",
        "\n",
        "\n",
        "def prepare_example_conversation(row):\n",
        "    return {\n",
        "        \"messages\": [\n",
        "            {\"role\": \"system\", \"content\": system_message},\n",
        "            {\"role\": \"user\", \"content\": create_user_message(row)},\n",
        "            {\"role\": \"assistant\", \"content\": row[\"NER\"]},\n",
        "        ]\n",
        "    }\n",
        "\n",
        "\n",
        "pprint(prepare_example_conversation(recipe_df.iloc[0]))"
      ],
      "metadata": {
        "colab": {
          "base_uri": "https://localhost:8080/"
        },
        "id": "eQ5VYJ9Gfo-Z",
        "outputId": "6f310ab9-79e3-4917-d5fc-0c03213b11d1"
      },
      "execution_count": 5,
      "outputs": [
        {
          "output_type": "stream",
          "name": "stdout",
          "text": [
            "{'messages': [{'content': 'You are a helpful recipe assistant. You are to '\n",
            "                          'extract the generic ingredients from each of the '\n",
            "                          'recipes provided.',\n",
            "               'role': 'system'},\n",
            "              {'content': 'Title: No-Bake Nut Cookies\\n'\n",
            "                          '\\n'\n",
            "                          'Ingredients: [\"1 c. firmly packed brown sugar\", '\n",
            "                          '\"1/2 c. evaporated milk\", \"1/2 tsp. vanilla\", \"1/2 '\n",
            "                          'c. broken nuts (pecans)\", \"2 Tbsp. butter or '\n",
            "                          'margarine\", \"3 1/2 c. bite size shredded rice '\n",
            "                          'biscuits\"]\\n'\n",
            "                          '\\n'\n",
            "                          'Generic ingredients: ',\n",
            "               'role': 'user'},\n",
            "              {'content': '[\"brown sugar\", \"milk\", \"vanilla\", \"nuts\", '\n",
            "                          '\"butter\", \"bite size shredded rice biscuits\"]',\n",
            "               'role': 'assistant'}]}\n"
          ]
        }
      ]
    },
    {
      "cell_type": "code",
      "source": [
        "# use the first 100 rows of the dataset for training\n",
        "training_df = recipe_df.loc[0:100]\n",
        "\n",
        "# apply the prepare_example_conversation function to each row of the training_df\n",
        "training_data = training_df.apply(prepare_example_conversation, axis=1).tolist()\n",
        "\n",
        "for example in training_data[:5]:\n",
        "    print(example)"
      ],
      "metadata": {
        "colab": {
          "base_uri": "https://localhost:8080/"
        },
        "id": "gcVnV3uIftZ3",
        "outputId": "86c4deed-e62d-4243-c170-b75344a84377"
      },
      "execution_count": 6,
      "outputs": [
        {
          "output_type": "stream",
          "name": "stdout",
          "text": [
            "{'messages': [{'role': 'system', 'content': 'You are a helpful recipe assistant. You are to extract the generic ingredients from each of the recipes provided.'}, {'role': 'user', 'content': 'Title: No-Bake Nut Cookies\\n\\nIngredients: [\"1 c. firmly packed brown sugar\", \"1/2 c. evaporated milk\", \"1/2 tsp. vanilla\", \"1/2 c. broken nuts (pecans)\", \"2 Tbsp. butter or margarine\", \"3 1/2 c. bite size shredded rice biscuits\"]\\n\\nGeneric ingredients: '}, {'role': 'assistant', 'content': '[\"brown sugar\", \"milk\", \"vanilla\", \"nuts\", \"butter\", \"bite size shredded rice biscuits\"]'}]}\n",
            "{'messages': [{'role': 'system', 'content': 'You are a helpful recipe assistant. You are to extract the generic ingredients from each of the recipes provided.'}, {'role': 'user', 'content': 'Title: Jewell Ball\\'S Chicken\\n\\nIngredients: [\"1 small jar chipped beef, cut up\", \"4 boned chicken breasts\", \"1 can cream of mushroom soup\", \"1 carton sour cream\"]\\n\\nGeneric ingredients: '}, {'role': 'assistant', 'content': '[\"beef\", \"chicken breasts\", \"cream of mushroom soup\", \"sour cream\"]'}]}\n",
            "{'messages': [{'role': 'system', 'content': 'You are a helpful recipe assistant. You are to extract the generic ingredients from each of the recipes provided.'}, {'role': 'user', 'content': 'Title: Creamy Corn\\n\\nIngredients: [\"2 (16 oz.) pkg. frozen corn\", \"1 (8 oz.) pkg. cream cheese, cubed\", \"1/3 c. butter, cubed\", \"1/2 tsp. garlic powder\", \"1/2 tsp. salt\", \"1/4 tsp. pepper\"]\\n\\nGeneric ingredients: '}, {'role': 'assistant', 'content': '[\"frozen corn\", \"cream cheese\", \"butter\", \"garlic powder\", \"salt\", \"pepper\"]'}]}\n",
            "{'messages': [{'role': 'system', 'content': 'You are a helpful recipe assistant. You are to extract the generic ingredients from each of the recipes provided.'}, {'role': 'user', 'content': 'Title: Chicken Funny\\n\\nIngredients: [\"1 large whole chicken\", \"2 (10 1/2 oz.) cans chicken gravy\", \"1 (10 1/2 oz.) can cream of mushroom soup\", \"1 (6 oz.) box Stove Top stuffing\", \"4 oz. shredded cheese\"]\\n\\nGeneric ingredients: '}, {'role': 'assistant', 'content': '[\"chicken\", \"chicken gravy\", \"cream of mushroom soup\", \"shredded cheese\"]'}]}\n",
            "{'messages': [{'role': 'system', 'content': 'You are a helpful recipe assistant. You are to extract the generic ingredients from each of the recipes provided.'}, {'role': 'user', 'content': 'Title: Reeses Cups(Candy)  \\n\\nIngredients: [\"1 c. peanut butter\", \"3/4 c. graham cracker crumbs\", \"1 c. melted butter\", \"1 lb. (3 1/2 c.) powdered sugar\", \"1 large pkg. chocolate chips\"]\\n\\nGeneric ingredients: '}, {'role': 'assistant', 'content': '[\"peanut butter\", \"graham cracker crumbs\", \"butter\", \"powdered sugar\", \"chocolate chips\"]'}]}\n"
          ]
        }
      ]
    },
    {
      "cell_type": "code",
      "source": [
        "# use the next 100 rows of the dataset for validation\n",
        "validation_df = recipe_df.loc[101:200]\n",
        "validation_data = validation_df.apply(\n",
        "    prepare_example_conversation, axis=1).tolist()"
      ],
      "metadata": {
        "id": "zKYZ1RIDfyx5"
      },
      "execution_count": 7,
      "outputs": []
    },
    {
      "cell_type": "code",
      "source": [
        "def write_jsonl(data_list: list, filename: str) -> None:\n",
        "    with open(filename, \"w\") as out:\n",
        "        for ddict in data_list:\n",
        "            jout = json.dumps(ddict) + \"\\n\"\n",
        "            out.write(jout)"
      ],
      "metadata": {
        "id": "NFiNSbUjf6Co"
      },
      "execution_count": 8,
      "outputs": []
    },
    {
      "cell_type": "code",
      "source": [
        "training_file_name = \"/content/tmp_recipe_finetune_training.jsonl\"\n",
        "write_jsonl(training_data, training_file_name)\n",
        "\n",
        "validation_file_name = \"/content/tmp_recipe_finetune_validation.jsonl\"\n",
        "write_jsonl(validation_data, validation_file_name)"
      ],
      "metadata": {
        "id": "UWvQ2b-Mf7Nx"
      },
      "execution_count": 9,
      "outputs": []
    },
    {
      "cell_type": "code",
      "source": [
        "!head -n 5 tmp_recipe_finetune_training.jsonl"
      ],
      "metadata": {
        "id": "DiuGHChuf-5V"
      },
      "execution_count": null,
      "outputs": []
    },
    {
      "cell_type": "markdown",
      "source": [
        "## Upload Files"
      ],
      "metadata": {
        "id": "iSyJgXIPgeJu"
      }
    },
    {
      "cell_type": "code",
      "source": [
        "def upload_file(file_name: str, purpose: str) -> str:\n",
        "    with open(file_name, \"rb\") as file_fd:\n",
        "        response = client.files.create(file=file_fd, purpose=purpose)\n",
        "    return response.id\n",
        "\n",
        "\n",
        "training_file_id = upload_file(training_file_name, \"fine-tune\")\n",
        "validation_file_id = upload_file(validation_file_name, \"fine-tune\")\n",
        "\n",
        "print(\"Training file ID:\", training_file_id)\n",
        "print(\"Validation file ID:\", validation_file_id)"
      ],
      "metadata": {
        "colab": {
          "base_uri": "https://localhost:8080/"
        },
        "id": "8uwvsIFmgEsc",
        "outputId": "9a20bbfe-0457-4b7b-c7a9-75fb395dc034"
      },
      "execution_count": 10,
      "outputs": [
        {
          "output_type": "stream",
          "name": "stdout",
          "text": [
            "Training file ID: file-53ZWTASi31k2KsHDXW2V7g1r\n",
            "Validation file ID: file-lmgs8Dj0RRHMefel5zrvuGqg\n"
          ]
        }
      ]
    },
    {
      "cell_type": "markdown",
      "source": [
        "## Create Fine-tuning Job"
      ],
      "metadata": {
        "id": "pymxCo57gXjV"
      }
    },
    {
      "cell_type": "code",
      "source": [
        "MODEL = \"gpt-4o-mini-2024-07-18\"\n",
        "\n",
        "response = client.fine_tuning.jobs.create(\n",
        "    training_file=training_file_id,\n",
        "    validation_file=validation_file_id,\n",
        "    model=MODEL,\n",
        "    suffix=\"recipe-ner\",\n",
        ")\n",
        "\n",
        "job_id = response.id\n",
        "\n",
        "print(\"Job ID:\", response.id)\n",
        "print(\"Status:\", response.status)"
      ],
      "metadata": {
        "colab": {
          "base_uri": "https://localhost:8080/"
        },
        "id": "GXsgdvG7gQ72",
        "outputId": "0d8c9c0c-ed1a-417e-ec61-0764d512765f"
      },
      "execution_count": 11,
      "outputs": [
        {
          "output_type": "stream",
          "name": "stdout",
          "text": [
            "Job ID: ftjob-zBtDll3AazYg1imIoEC9klma\n",
            "Status: validating_files\n"
          ]
        }
      ]
    },
    {
      "cell_type": "markdown",
      "source": [
        "## Check Job Status"
      ],
      "metadata": {
        "id": "HUWt_hHbgT_B"
      }
    },
    {
      "cell_type": "code",
      "source": [
        "response = client.fine_tuning.jobs.retrieve(job_id)\n",
        "\n",
        "print(\"Job ID:\", response.id)\n",
        "print(\"Status:\", response.status)\n",
        "print(\"Trained Tokens:\", response.trained_tokens)"
      ],
      "metadata": {
        "colab": {
          "base_uri": "https://localhost:8080/"
        },
        "id": "2YUWKFxqgS0z",
        "outputId": "0cff7641-fafb-4db0-8949-cef572a57362"
      },
      "execution_count": 12,
      "outputs": [
        {
          "output_type": "stream",
          "name": "stdout",
          "text": [
            "Job ID: ftjob-zBtDll3AazYg1imIoEC9klma\n",
            "Status: validating_files\n",
            "Trained Tokens: None\n"
          ]
        }
      ]
    },
    {
      "cell_type": "code",
      "source": [
        "response = client.fine_tuning.jobs.list_events(job_id)\n",
        "\n",
        "events = response.data\n",
        "events.reverse()\n",
        "\n",
        "for event in events:\n",
        "    print(event.message)"
      ],
      "metadata": {
        "colab": {
          "base_uri": "https://localhost:8080/"
        },
        "id": "cQIxf1PPh_lq",
        "outputId": "6565dc96-61af-4a3f-c74d-484ffb9a5d1f"
      },
      "execution_count": 29,
      "outputs": [
        {
          "output_type": "stream",
          "name": "stdout",
          "text": [
            "Step 288/303: training loss=0.00\n",
            "Step 289/303: training loss=0.00\n",
            "Step 290/303: training loss=0.00, validation loss=0.27\n",
            "Step 291/303: training loss=0.35\n",
            "Step 292/303: training loss=0.00\n",
            "Step 293/303: training loss=0.20\n",
            "Step 294/303: training loss=0.00\n",
            "Step 295/303: training loss=0.00\n",
            "Step 296/303: training loss=0.00\n",
            "Step 297/303: training loss=2.24\n",
            "Step 298/303: training loss=0.00\n",
            "Step 299/303: training loss=0.00\n",
            "Step 300/303: training loss=0.00, validation loss=0.06\n",
            "Step 301/303: training loss=0.00\n",
            "Step 302/303: training loss=0.00\n",
            "Step 303/303: training loss=0.00, full validation loss=0.23\n",
            "Checkpoint created at step 101 with Snapshot ID: ft:gpt-4o-mini-2024-07-18:personal:recipe-ner:9oeQ8SOF:ckpt-step-101\n",
            "Checkpoint created at step 202 with Snapshot ID: ft:gpt-4o-mini-2024-07-18:personal:recipe-ner:9oeQ8gZp:ckpt-step-202\n",
            "New fine-tuned model created: ft:gpt-4o-mini-2024-07-18:personal:recipe-ner:9oeQ9EMt\n",
            "The job has successfully completed\n"
          ]
        }
      ]
    },
    {
      "cell_type": "markdown",
      "source": [
        "### Get Fine-tuned Model ID"
      ],
      "metadata": {
        "id": "ch6-5z2liKam"
      }
    },
    {
      "cell_type": "code",
      "source": [
        "response = client.fine_tuning.jobs.retrieve(job_id)\n",
        "fine_tuned_model_id = response.fine_tuned_model\n",
        "\n",
        "if fine_tuned_model_id is None:\n",
        "    raise RuntimeError(\n",
        "        \"Fine-tuned model ID not found. Your job has likely not been completed yet.\"\n",
        "    )\n",
        "\n",
        "print(\"Fine-tuned model ID:\", fine_tuned_model_id)"
      ],
      "metadata": {
        "colab": {
          "base_uri": "https://localhost:8080/"
        },
        "id": "MhoO3LmTiJv3",
        "outputId": "0dffd9d1-baeb-4b8f-99ea-1a0173492fde"
      },
      "execution_count": 30,
      "outputs": [
        {
          "output_type": "stream",
          "name": "stdout",
          "text": [
            "Fine-tuned model ID: ft:gpt-4o-mini-2024-07-18:personal:recipe-ner:9oeQ9EMt\n"
          ]
        }
      ]
    },
    {
      "cell_type": "markdown",
      "source": [
        "## Inference"
      ],
      "metadata": {
        "id": "E9gWkoGiiebX"
      }
    },
    {
      "cell_type": "code",
      "source": [
        "test_df = recipe_df.loc[201:300]\n",
        "test_row = test_df.iloc[0]\n",
        "test_messages = []\n",
        "test_messages.append({\"role\": \"system\", \"content\": system_message})\n",
        "user_message = create_user_message(test_row)\n",
        "test_messages.append({\"role\": \"user\", \"content\": user_message})\n",
        "\n",
        "pprint(test_messages)"
      ],
      "metadata": {
        "colab": {
          "base_uri": "https://localhost:8080/"
        },
        "id": "gRtsiGO9idye",
        "outputId": "0b8d5bff-866b-4b96-e12d-cc4af2e985ab"
      },
      "execution_count": 31,
      "outputs": [
        {
          "output_type": "stream",
          "name": "stdout",
          "text": [
            "[{'content': 'You are a helpful recipe assistant. You are to extract the '\n",
            "             'generic ingredients from each of the recipes provided.',\n",
            "  'role': 'system'},\n",
            " {'content': 'Title: Beef Brisket\\n'\n",
            "             '\\n'\n",
            "             'Ingredients: [\"4 lb. beef brisket\", \"1 c. catsup\", \"1 c. water\", '\n",
            "             '\"1/2 onion, minced\", \"2 Tbsp. cider vinegar\", \"1 Tbsp. prepared '\n",
            "             'horseradish\", \"1 Tbsp. prepared mustard\", \"1 tsp. salt\", \"1/2 '\n",
            "             'tsp. pepper\"]\\n'\n",
            "             '\\n'\n",
            "             'Generic ingredients: ',\n",
            "  'role': 'user'}]\n"
          ]
        }
      ]
    },
    {
      "cell_type": "code",
      "source": [
        "response = client.chat.completions.create(\n",
        "    model=fine_tuned_model_id, messages=test_messages, temperature=0, max_tokens=500\n",
        ")\n",
        "print(response.choices[0].message.content)"
      ],
      "metadata": {
        "colab": {
          "base_uri": "https://localhost:8080/"
        },
        "id": "ZDVLfPLgilKL",
        "outputId": "272e3710-5187-4073-f0fd-f0e9c52079a5"
      },
      "execution_count": 32,
      "outputs": [
        {
          "output_type": "stream",
          "name": "stdout",
          "text": [
            "[\"beef brisket\", \"catsup\", \"water\", \"onion\", \"cider vinegar\", \"horseradish\", \"mustard\", \"salt\", \"pepper\"]\n"
          ]
        }
      ]
    }
  ]
}